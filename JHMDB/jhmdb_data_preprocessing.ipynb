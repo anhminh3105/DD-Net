{
 "cells": [
  {
   "cell_type": "code",
   "execution_count": 1,
   "metadata": {},
   "outputs": [],
   "source": [
    "import numpy as np\n",
    "from tqdm import tqdm\n",
    "import matplotlib.pyplot as plt\n",
    "from scipy.signal import medfilt\n",
    "import pickle\n",
    "import glob"
   ]
  },
  {
   "cell_type": "markdown",
   "metadata": {},
   "source": [
    "### Functions"
   ]
  },
  {
   "cell_type": "code",
   "execution_count": 2,
   "metadata": {
    "scrolled": true
   },
   "outputs": [],
   "source": [
    "def read_annotation(annotation_path):\n",
    "    lines = []\n",
    "    with open(annotation_path) as f:\n",
    "        lines.append(f.read().splitlines() )\n",
    "    f.close()\n",
    "    #lines = np.sort(lines)\n",
    "    lines = np.hstack(lines)\n",
    "    return lines\n",
    "\n",
    "def generate_train_test_list(lists):\n",
    "    train_list = []\n",
    "    test_list = []\n",
    "    for i in range(len(lists)):\n",
    "        lines = read_annotation(lists[i])\n",
    "        for line in lines:\n",
    "            file_name, flag = line.split(' ')\n",
    "            if flag == '1':\n",
    "                train_list.append(file_name.split('.')[0])\n",
    "            elif flag == '2':\n",
    "                test_list.append(file_name.split('.')[0])\n",
    "    return train_list,test_list\n",
    "\n",
    "import scipy.io\n",
    "def read_pose(path):\n",
    "    mat = scipy.io.loadmat(path)\n",
    "    poses = np.round(mat['pos_img'],3).swapaxes(0,2)\n",
    "    openpose_layout = [2, 0, \n",
    "                       3, 7, 11, 4, 8, 12,\n",
    "                       5, 9, 13, 6, 10, 14]\n",
    "    poses = poses[:, openpose_layout, :]\n",
    "    return poses\n",
    "\n",
    "def generate_pose_label(pose_list,train_list,test_list, selected_action=None):\n",
    "    train = {}\n",
    "    train['pose'] = []\n",
    "    train['label'] = []\n",
    "    test = {}\n",
    "    test['pose'] = []\n",
    "    test['label'] = []\n",
    "    summary = {}\n",
    "    for i in range(len(pose_list)):\n",
    "        label = pose_list[i].split('/')[-2]\n",
    "        if selected_action:\n",
    "            if label not in selected_action:\n",
    "                continue\n",
    "                \n",
    "        if label not in summary.keys():\n",
    "            summary[label] = 1\n",
    "        else:\n",
    "            summary[label] += 1\n",
    "            \n",
    "        pose_path = pose_list[i]+'/joint_positions.mat'\n",
    "        pose = read_pose(pose_path)\n",
    "        # simulate 'sitting'  not 'sitting down'\n",
    "#         if label == 'sit':\n",
    "#             pose[:] = pose[-1]\n",
    "            \n",
    "        file = pose_list[i].split('/')[-1]\n",
    "        if file in train_list:\n",
    "            train['label'].append(label)\n",
    "            train['pose'].append(pose)\n",
    "        elif file in test_list:\n",
    "            test['label'].append(label)\n",
    "            test['pose'].append(pose)\n",
    "    return train,test, summary"
   ]
  },
  {
   "cell_type": "markdown",
   "metadata": {},
   "source": [
    "### Config settings"
   ]
  },
  {
   "cell_type": "code",
   "execution_count": 3,
   "metadata": {},
   "outputs": [],
   "source": [
    "class Config():\n",
    "    def __init__(self):        \n",
    "        self.data_dir = './JHMDB_original/'\n",
    "        self.save_dir = './JHMDB_processed/'\n",
    "C = Config()\n",
    "selected_actions = ['sit', 'catch', 'walk']"
   ]
  },
  {
   "cell_type": "markdown",
   "metadata": {},
   "source": [
    "### There are 3 ways of splitting the ground-truth pose data"
   ]
  },
  {
   "cell_type": "code",
   "execution_count": 4,
   "metadata": {},
   "outputs": [],
   "source": [
    "GT_split_lists = glob.glob(C.data_dir + 'splits/*.txt')\n",
    "GT_pose_list = glob.glob(C.data_dir + 'joint_positions/*/*')"
   ]
  },
  {
   "cell_type": "code",
   "execution_count": 5,
   "metadata": {
    "scrolled": true
   },
   "outputs": [],
   "source": [
    "GT_lists_1 = []\n",
    "GT_lists_2 = []\n",
    "GT_lists_3 = []\n",
    "for file in GT_split_lists:\n",
    "    if file.split('/')[-1].split('.')[0].split('_')[-1] == 'split1':\n",
    "        GT_lists_1.append(file) \n",
    "    elif file.split('/')[-1].split('.')[0].split('_')[-1] == 'split2':\n",
    "        GT_lists_2.append(file)\n",
    "    elif file.split('/')[-1].split('.')[0].split('_')[-1] == 'split3':\n",
    "        GT_lists_3.append(file)\n",
    "       "
   ]
  },
  {
   "cell_type": "markdown",
   "metadata": {},
   "source": [
    "## Processing each spliting method"
   ]
  },
  {
   "cell_type": "code",
   "execution_count": 6,
   "metadata": {},
   "outputs": [
    {
     "name": "stdout",
     "output_type": "stream",
     "text": [
      "['walk', 'sit', 'catch']\n",
      "{'walk': 41, 'sit': 39, 'catch': 48}\n"
     ]
    }
   ],
   "source": [
    "GT_train_list_1,GT_test_list_1 = generate_train_test_list(GT_lists_1)\n",
    "GT_train_1,GT_test_1, summary = generate_pose_label(GT_pose_list,GT_train_list_1,GT_test_list_1, selected_actions)\n",
    "print(list(set(GT_train_1['label'])))\n",
    "print(summary)\n",
    "pickle.dump(GT_train_1, open(C.save_dir+\"GT_train_1.pkl\", \"wb\"))\n",
    "pickle.dump(GT_test_1, open(C.save_dir+\"GT_test_1.pkl\", \"wb\"))\n"
   ]
  },
  {
   "cell_type": "code",
   "execution_count": 7,
   "metadata": {},
   "outputs": [
    {
     "name": "stdout",
     "output_type": "stream",
     "text": [
      "{'walk': 41, 'sit': 39, 'catch': 48}\n"
     ]
    }
   ],
   "source": [
    "GT_train_list_2,GT_test_list_2 = generate_train_test_list(GT_lists_2)\n",
    "\n",
    "GT_train_2,GT_test_2, summary = generate_pose_label(GT_pose_list,GT_train_list_2,GT_test_list_2, selected_actions)\n",
    "print(summary)\n",
    "pickle.dump(GT_train_2, open(C.save_dir+\"GT_train_2.pkl\", \"wb\"))\n",
    "pickle.dump(GT_test_2, open(C.save_dir+\"GT_test_2.pkl\", \"wb\"))\n"
   ]
  },
  {
   "cell_type": "code",
   "execution_count": 8,
   "metadata": {},
   "outputs": [
    {
     "name": "stdout",
     "output_type": "stream",
     "text": [
      "{'walk': 41, 'sit': 39, 'catch': 48}\n"
     ]
    }
   ],
   "source": [
    "GT_train_list_3,GT_test_list_3 = generate_train_test_list(GT_lists_3)\n",
    "\n",
    "GT_train_3,GT_test_3, summary = generate_pose_label(GT_pose_list,GT_train_list_3,GT_test_list_3, selected_actions)\n",
    "print(summary)\n",
    "pickle.dump(GT_train_3, open(C.save_dir+\"GT_train_3.pkl\", \"wb\"))\n",
    "pickle.dump(GT_test_3, open(C.save_dir+\"GT_test_3.pkl\", \"wb\"))\n"
   ]
  },
  {
   "cell_type": "code",
   "execution_count": null,
   "metadata": {},
   "outputs": [],
   "source": []
  }
 ],
 "metadata": {
  "kernelspec": {
   "display_name": "Python 3",
   "language": "python",
   "name": "python3"
  },
  "language_info": {
   "codemirror_mode": {
    "name": "ipython",
    "version": 3
   },
   "file_extension": ".py",
   "mimetype": "text/x-python",
   "name": "python",
   "nbconvert_exporter": "python",
   "pygments_lexer": "ipython3",
   "version": "3.7.5"
  }
 },
 "nbformat": 4,
 "nbformat_minor": 2
}
